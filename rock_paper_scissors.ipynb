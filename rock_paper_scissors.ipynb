{
  "nbformat": 4,
  "nbformat_minor": 0,
  "metadata": {
    "colab": {
      "name": "rock paper scissors",
      "version": "0.3.2",
      "provenance": [],
      "collapsed_sections": [],
      "include_colab_link": true
    },
    "kernelspec": {
      "name": "python3",
      "display_name": "Python 3"
    }
  },
  "cells": [
    {
      "cell_type": "markdown",
      "metadata": {
        "id": "view-in-github",
        "colab_type": "text"
      },
      "source": [
        "<a href=\"https://colab.research.google.com/github/AndreSlavescu/rock-scissors-paper-molerat/blob/master/rock_paper_scissors.ipynb\" target=\"_parent\"><img src=\"https://colab.research.google.com/assets/colab-badge.svg\" alt=\"Open In Colab\"/></a>"
      ]
    },
    {
      "cell_type": "code",
      "metadata": {
        "id": "Tek46l8xbKrB",
        "colab_type": "code",
        "colab": {}
      },
      "source": [
        "import random\n",
        "\n",
        "class color:\n",
        "   PURPLE = '\\033[95m'\n",
        "   CYAN = '\\033[96m'\n",
        "   DARKCYAN = '\\033[36m'\n",
        "   BLUE = '\\033[94m'\n",
        "   GREEN = '\\033[92m'\n",
        "   YELLOW = '\\033[93m'\n",
        "   RED = '\\033[91m'\n",
        "   BOLD = '\\033[1m'\n",
        "   UNDERLINE = '\\033[4m'\n",
        "   END = '\\033[0m'\n",
        "\n",
        "print(color.RED + \"WELCOME TO ROCK, PAPER , AND SCISSORS\" + color.END)\n",
        "\n",
        "def get_computer_move(previousMoves):\n",
        "  if len(previousMoves)>2:\n",
        "    if previousMoves[-1] == \"s\" and previousMoves[-2] == \"s\" and previousMoves[-3] == \"s\":\n",
        "      return 3\n",
        "    elif previousMoves[-1] == \"p\" and previousMoves[-2] == \"p\" and previousMoves[-3] == \"p\":\n",
        "      return 1\n",
        "    elif previousMoves[-1] == \"r\" and previousMoves[-2] == \"r\" and previousMoves[-3] == \"r\":\n",
        "      return 2 \n",
        "      \n",
        "  return random.randint(1,3)\n",
        "\n",
        "c=0\n",
        "y=0\n",
        "totalPlays = 0\n",
        "previousMoves = \"\"\n",
        "values = \"spr\" #1, 2, 3\n",
        "bestoutof=int(input(\"pick a total score to reach for the win: \"))\n",
        "\n",
        "while c<bestoutof and y<bestoutof:\n",
        "  totalPlays=totalPlays+1\n",
        "  playerInput = input(\"please input either p or s or r: \")\n",
        "  x=get_computer_move(previousMoves)\n",
        "  print(\"your previous moves\",previousMoves)\n",
        "  if playerInput is \"s\" or \"p\" or \"r\":\n",
        "    print(\"computer picks\",values[x-1])\n",
        "  else:\n",
        "    continue\n",
        "\n",
        "  if playerInput is \"s\" and  x == 1:\n",
        "    print(color.BLUE + \"You Tie!\" + color.END)\n",
        "  elif playerInput is \"s\" and x == 2:\n",
        "    y = y+1\n",
        "    print(color.GREEN + \"You Win!\" + color.END)\n",
        "  elif playerInput is \"s\" and x == 3:\n",
        "    c = c+1\n",
        "    print(color.RED + \"You Lose!\" + color.END)  \n",
        "  elif playerInput is \"p\" and x == 1:\n",
        "    c = c+1\n",
        "    print(color.RED + \"You Lose!\" + color.END)\n",
        "  elif playerInput is \"p\" and x == 2:\n",
        "    print(color.BLUE + \"You Tie!\" + color.END)\n",
        "  elif playerInput is \"p\" and x == 3:\n",
        "    y = y+1\n",
        "    print(color.GREEN + \"You Win!\" + color.END)\n",
        "  elif playerInput is \"r\" and x == 1:\n",
        "    y = y+1\n",
        "    print(color.GREEN + \"You Win!\" + color.END)\n",
        "  elif playerInput is \"r\" and x == 2:\n",
        "    c = c+1\n",
        "    print(color.RED + \"You Lose!\" + color.END)\n",
        "  elif playerInput is \"r\" and x == 3:\n",
        "    print(color.BLUE + \"You Tie!\" + color.END)\n",
        "  print(\"play number:\",totalPlays)  \n",
        "  print(\"computer score:\",c, \"your score:\",y)\n",
        "  previousMoves = previousMoves+playerInput\n",
        "if y == bestoutof:\n",
        "  print(\"you Won the match!\")\n",
        "else:\n",
        "  print(\"computer Won the match!\")\n"
      ],
      "execution_count": 0,
      "outputs": []
    }
  ]
}